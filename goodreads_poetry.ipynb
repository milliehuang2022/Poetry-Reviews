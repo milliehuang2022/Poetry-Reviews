{
 "cells": [
  {
   "cell_type": "code",
   "execution_count": 3,
   "id": "019be458-091f-44d5-b541-6966b5a437de",
   "metadata": {},
   "outputs": [],
   "source": [
    "# Imports\n",
    "import gzip\n",
    "import json\n",
    "import re\n",
    "import os\n",
    "import sys\n",
    "import numpy as np\n",
    "import pandas as pd"
   ]
  },
  {
   "cell_type": "code",
   "execution_count": null,
   "id": "4d876948-076d-4c89-bfcc-726bbfc58ff6",
   "metadata": {},
   "outputs": [],
   "source": [
    "# Function to load dataset\n",
    "def load_data(file_name, head = 500):\n",
    "    count = 0\n",
    "    data = []\n",
    "    with gzip.open(file_name) as fin:\n",
    "        for l in fin:\n",
    "            d = json.loads(l)\n",
    "            count += 1\n",
    "            data.append(d)\n",
    "            \n",
    "            # break if reaches the 100th line\n",
    "            if (head is not None) and (count > head):\n",
    "                break\n",
    "    return data"
   ]
  },
  {
   "cell_type": "code",
   "execution_count": null,
   "id": "c927ee4d-5fda-4c5f-bdc0-fbaa354473c2",
   "metadata": {},
   "outputs": [],
   "source": [
    "DIR = \""
   ]
  },
  {
   "cell_type": "code",
   "execution_count": null,
   "id": "566098ea-4d54-4ea9-948f-ef1998cf809b",
   "metadata": {},
   "outputs": [],
   "source": [
    "poetry_reviews = load_data("
   ]
  }
 ],
 "metadata": {
  "kernelspec": {
   "display_name": "Python 3 (ipykernel)",
   "language": "python",
   "name": "python3"
  },
  "language_info": {
   "codemirror_mode": {
    "name": "ipython",
    "version": 3
   },
   "file_extension": ".py",
   "mimetype": "text/x-python",
   "name": "python",
   "nbconvert_exporter": "python",
   "pygments_lexer": "ipython3",
   "version": "3.12.0"
  }
 },
 "nbformat": 4,
 "nbformat_minor": 5
}
