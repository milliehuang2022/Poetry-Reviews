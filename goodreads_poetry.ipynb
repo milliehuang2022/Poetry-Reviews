{
 "cells": [
  {
   "cell_type": "code",
   "execution_count": 32,
   "id": "019be458-091f-44d5-b541-6966b5a437de",
   "metadata": {},
   "outputs": [],
   "source": [
    "# Imports\n",
    "import gzip\n",
    "import json\n",
    "import re\n",
    "import os\n",
    "import sys\n",
    "import numpy as np\n",
    "import pandas as pd\n",
    "from collections import defaultdict\n",
    "import string\n",
    "from nltk.stem.porter import * # PorterStemmer\n",
    "from sklearn import linear_model"
   ]
  },
  {
   "cell_type": "markdown",
   "id": "86ec3620-1a4c-47c9-87b0-d93c89430e14",
   "metadata": {},
   "source": [
    "## Loading the Dataset"
   ]
  },
  {
   "cell_type": "code",
   "execution_count": 5,
   "id": "4d876948-076d-4c89-bfcc-726bbfc58ff6",
   "metadata": {},
   "outputs": [],
   "source": [
    "# Function to load dataset\n",
    "def load_data(file_name, head = 500):\n",
    "    count = 0\n",
    "    data = []\n",
    "    with gzip.open(file_name) as fin:\n",
    "        for l in fin:\n",
    "            d = json.loads(l)\n",
    "            count += 1\n",
    "            data.append(d)\n",
    "            \n",
    "            # break if reaches the 100th line\n",
    "            if (head is not None) and (count > head):\n",
    "                break\n",
    "    return data"
   ]
  },
  {
   "cell_type": "code",
   "execution_count": 6,
   "id": "c927ee4d-5fda-4c5f-bdc0-fbaa354473c2",
   "metadata": {},
   "outputs": [],
   "source": [
    "DIR = \"/Users/milliehuang/Documents/dsc/dsu/goodreads poetry\""
   ]
  },
  {
   "cell_type": "code",
   "execution_count": 7,
   "id": "566098ea-4d54-4ea9-948f-ef1998cf809b",
   "metadata": {},
   "outputs": [],
   "source": [
    "poetry_reviews = load_data(os.path.join(DIR, 'goodreads_reviews_poetry.json.gz'))"
   ]
  },
  {
   "cell_type": "code",
   "execution_count": 8,
   "id": "7decb558-5ba7-4b71-82fe-c777071f6439",
   "metadata": {},
   "outputs": [
    {
     "name": "stdout",
     "output_type": "stream",
     "text": [
      " == sample record (poetry review) ==\n"
     ]
    },
    {
     "data": {
      "text/plain": [
       "{'user_id': '18a90fd306154bbad480e04b153a144b',\n",
       " 'book_id': '34051',\n",
       " 'review_id': 'e5f1585ce75154669a5349d9c74a93da',\n",
       " 'rating': 5,\n",
       " 'review_text': '\"When you\\'re wounded and left on Afghanistan\\'s plains, \\n And the women come out to cut up what remains, \\n Jest roll to your rifle and blow out your brains \\n An\\' go to your Gawd like a soldier.\" \\n Wow. The pathos. \\n Re-reading Kipling again. The older I get them more dark and critical his poetry sounds.',\n",
       " 'date_added': 'Fri Jun 17 08:56:18 -0700 2011',\n",
       " 'date_updated': 'Fri Jun 17 08:58:43 -0700 2011',\n",
       " 'read_at': 'Wed Jun 15 00:00:00 -0700 2011',\n",
       " 'started_at': '',\n",
       " 'n_votes': 1,\n",
       " 'n_comments': 0}"
      ]
     },
     "metadata": {},
     "output_type": "display_data"
    }
   ],
   "source": [
    "print(' == sample record (poetry review) ==')\n",
    "display(np.random.choice(poetry_reviews))"
   ]
  },
  {
   "cell_type": "code",
   "execution_count": 19,
   "id": "455a808f-6f31-439c-8ae3-8c330541ae9c",
   "metadata": {},
   "outputs": [
    {
     "data": {
      "text/plain": [
       "10755"
      ]
     },
     "execution_count": 19,
     "metadata": {},
     "output_type": "execute_result"
    }
   ],
   "source": [
    "word_count = defaultdict(int)\n",
    "for d in poetry_reviews:\n",
    "    for w in d['review_text'].split():\n",
    "        word_count[w] += 1\n",
    "\n",
    "len(word_count)"
   ]
  },
  {
   "cell_type": "code",
   "execution_count": 20,
   "id": "2f2675aa-5bf1-4af9-ba14-53b7ed39889a",
   "metadata": {},
   "outputs": [
    {
     "data": {
      "text/plain": [
       "7702"
      ]
     },
     "execution_count": 20,
     "metadata": {},
     "output_type": "execute_result"
    }
   ],
   "source": [
    "word_count = defaultdict(int)\n",
    "punctuation = set(string.punctuation)\n",
    "for d in poetry_reviews:\n",
    "    r = ''.join([c for c in d['review_text'].lower() if not c in punctuation])\n",
    "    for w in r.split():\n",
    "        word_count[w] += 1\n",
    "\n",
    "len(word_count)"
   ]
  },
  {
   "cell_type": "code",
   "execution_count": 21,
   "id": "32e45d21-f553-48fe-a16e-f8245d789e02",
   "metadata": {},
   "outputs": [
    {
     "data": {
      "text/plain": [
       "6391"
      ]
     },
     "execution_count": 21,
     "metadata": {},
     "output_type": "execute_result"
    }
   ],
   "source": [
    "word_count = defaultdict(int)\n",
    "punctuation = set(string.punctuation)\n",
    "stemmer = PorterStemmer()\n",
    "for d in poetry_reviews:\n",
    "  r = ''.join([c for c in d['review_text'].lower() if not c in punctuation])\n",
    "  for w in r.split():\n",
    "    w = stemmer.stem(w)\n",
    "    word_count[w] += 1\n",
    "    \n",
    "len(word_count)"
   ]
  },
  {
   "cell_type": "code",
   "execution_count": 22,
   "id": "ea69c931-65bf-43f2-8ab7-d6e324e41ee5",
   "metadata": {},
   "outputs": [],
   "source": [
    "word_count = defaultdict(int)\n",
    "punctuation = set(string.punctuation)\n",
    "for d in poetry_reviews:\n",
    "  r = ''.join([c for c in d['review_text'].lower() if not c in punctuation])\n",
    "  for w in r.split():\n",
    "    word_count[w] += 1\n",
    "\n",
    "counts = [(word_count[w], w) for w in word_count]\n",
    "counts.sort()\n",
    "counts.reverse()"
   ]
  },
  {
   "cell_type": "code",
   "execution_count": 25,
   "id": "8354b2a3-160c-4844-80f0-7a444a25b4af",
   "metadata": {},
   "outputs": [
    {
     "data": {
      "text/plain": [
       "['the', 'and', 'of', 'a', 'i']"
      ]
     },
     "execution_count": 25,
     "metadata": {},
     "output_type": "execute_result"
    }
   ],
   "source": [
    "words = [x[1] for x in counts[:1000]]\n",
    "words[:5]"
   ]
  },
  {
   "cell_type": "markdown",
   "id": "9bb29b8e-e559-43c4-ac4f-ebf59426c047",
   "metadata": {},
   "source": [
    "## Sentiment Analysis"
   ]
  },
  {
   "cell_type": "code",
   "execution_count": 26,
   "id": "fd71d5cc-b047-44ae-98e2-b7a996af0d37",
   "metadata": {},
   "outputs": [],
   "source": [
    "wordId = dict(zip(words, range(len(words))))\n",
    "wordSet = set(words)"
   ]
  },
  {
   "cell_type": "code",
   "execution_count": 28,
   "id": "224c7fde-6140-4936-a8b3-36bd65345906",
   "metadata": {},
   "outputs": [],
   "source": [
    "def feature(datum):\n",
    "    feat = [0]*len(words)\n",
    "    r = ''.join([c for c in datum['review_text'].lower() if not c in punctuation])\n",
    "    for w in r.split():\n",
    "        if w in words:\n",
    "            feat[wordId[w]] += 1\n",
    "    feat.append(1) # offset\n",
    "    return feat"
   ]
  },
  {
   "cell_type": "code",
   "execution_count": 34,
   "id": "75239dab-263c-4003-babd-a44f04762fdb",
   "metadata": {},
   "outputs": [],
   "source": [
    "X = [feature(d) for d in poetry_reviews]\n",
    "y = [d['rating'] for d in poetry_reviews]"
   ]
  },
  {
   "cell_type": "code",
   "execution_count": 35,
   "id": "f86288f0-3fce-43c7-907b-448eb78f5bb2",
   "metadata": {},
   "outputs": [],
   "source": [
    "# Regularized regression\n",
    "clf = linear_model.Ridge(1.0, fit_intercept=False) # MSE + 1.0 l2\n",
    "clf.fit(X, y)\n",
    "theta = clf.coef_\n",
    "predictions = clf.predict(X)"
   ]
  }
 ],
 "metadata": {
  "kernelspec": {
   "display_name": "Python 3 (ipykernel)",
   "language": "python",
   "name": "python3"
  },
  "language_info": {
   "codemirror_mode": {
    "name": "ipython",
    "version": 3
   },
   "file_extension": ".py",
   "mimetype": "text/x-python",
   "name": "python",
   "nbconvert_exporter": "python",
   "pygments_lexer": "ipython3",
   "version": "3.12.0"
  }
 },
 "nbformat": 4,
 "nbformat_minor": 5
}
